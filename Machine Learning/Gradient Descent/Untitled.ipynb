{
 "cells": [
  {
   "cell_type": "code",
   "execution_count": 4,
   "id": "168988a2",
   "metadata": {},
   "outputs": [],
   "source": [
    "x=2\n",
    "rate = 0.01\n",
    "precision = 0.000001\n",
    "prev=1\n",
    "max_itr = 1000\n",
    "itr =0"
   ]
  },
  {
   "cell_type": "code",
   "execution_count": 16,
   "id": "25702acb",
   "metadata": {},
   "outputs": [],
   "source": [
    "df = lambda x: 2*(x+3)"
   ]
  },
  {
   "cell_type": "code",
   "execution_count": 17,
   "id": "00448ecc",
   "metadata": {},
   "outputs": [],
   "source": [
    "while prev > precision and itr<max_itr:\n",
    "    prev = x\n",
    "    x -=rate*df(prev)\n",
    "    prev = abs(prev-x)\n",
    "    itr += 1\n",
    "    print(\"Iteration : \", iters,\" Local Minima Occurs at :\",cur_x)"
   ]
  },
  {
   "cell_type": "code",
   "execution_count": 1,
   "id": "5cbb99da",
   "metadata": {},
   "outputs": [],
   "source": [
    "curr_x=2\n",
    "rate=0.01\n",
    "precision = 0.000001\n",
    "max_itr=1000\n",
    "itr=0\n",
    "prev_step=1\n",
    "\n",
    "df=lambda x: 2*(x+3)"
   ]
  },
  {
   "cell_type": "code",
   "execution_count": 2,
   "id": "308091e4",
   "metadata": {},
   "outputs": [
    {
     "ename": "IndentationError",
     "evalue": "unexpected indent (1325671135.py, line 6)",
     "output_type": "error",
     "traceback": [
      "\u001b[1;36m  Cell \u001b[1;32mIn [2], line 6\u001b[1;36m\u001b[0m\n\u001b[1;33m    print(\"Iteration : \", itr,\" Local Minima Occurs at :\",cur_x)\u001b[0m\n\u001b[1;37m    ^\u001b[0m\n\u001b[1;31mIndentationError\u001b[0m\u001b[1;31m:\u001b[0m unexpected indent\n"
     ]
    }
   ],
   "source": [
    "while prev_step > precision and itr<max_itr:\n",
    "    temp=curr_x\n",
    "    curr_x-=rate * df(temp)\n",
    "    prev_step =abs(temp-curr_x)\n",
    "    itr+=1\n",
    "    \n",
    "    print(\"Iteration : \", itr,\" Local Minima Occurs at :\",cur_x)"
   ]
  },
  {
   "cell_type": "code",
   "execution_count": null,
   "id": "d8a01b31",
   "metadata": {},
   "outputs": [],
   "source": []
  }
 ],
 "metadata": {
  "kernelspec": {
   "display_name": "Python 3 (ipykernel)",
   "language": "python",
   "name": "python3"
  },
  "language_info": {
   "codemirror_mode": {
    "name": "ipython",
    "version": 3
   },
   "file_extension": ".py",
   "mimetype": "text/x-python",
   "name": "python",
   "nbconvert_exporter": "python",
   "pygments_lexer": "ipython3",
   "version": "3.10.7"
  }
 },
 "nbformat": 4,
 "nbformat_minor": 5
}
